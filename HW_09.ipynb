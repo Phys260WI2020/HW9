{
 "cells": [
  {
   "cell_type": "markdown",
   "metadata": {},
   "source": [
    "# Computer Homework #9: Inductors in Circuits\n",
    "## Due Thursday April 2 11:59pm\n",
    "\n",
    "In this assignment we will examine the effect of inductors in circuits, and introduce the concept of alternating-current circuits. \n",
    "\n",
    "The canonical example of an inductor is a solenoid. When you run a current through a solenoid, it develops a magnetic field. If this current is changing, the magnetic field in the solenoid is changing too. And if that happens, the solenoid experiences a changing magnetic flux through itself. Faraday's law tells us that this will result in an emf in the solenoid that's in a direction to oppose the change in flux. \n",
    "\n",
    "The induced emf in the solenoid is proportional to the rate of change of the current, so we can write it as:\n",
    "$$\n",
    "    V_L = -L\\frac{dI}{dt}.\n",
    "$$\n",
    "$L$ is a proportionality constant called the <b>inductance</b>. It's measured in Henries. \n",
    "\n",
    "Like capacitance, inductance is a geometrical quantity. We'll calculate it explicitly for a solenoid in class. Physically, inductors prevent currents from changing too quickly. If $dI/dt$ is large, the inductor will generate a large opposing emf that limits the current. Surge protectors are basically big inductors.\n",
    "\n",
    "Inductors contribute to Kirchhoff's loop rule, just like resistors, capacitors, and batteries do. So we can solve circuits with inductors using techniques similar to what you did in [Computer Homework 5](https://github.com/Phys260WI2020/HW5/blob/master/HW_05.ipynb). You will want to have that assignment at hand when starting this one.  But, one primary difference is that we will use methods in a python `class` to perform the integration."
   ]
  },
  {
   "cell_type": "markdown",
   "metadata": {},
   "source": [
    "### Pre-flight:  In class, we will look at how a class might work for the RC circuit from homework 5.  You will need to create a modified class for this homework."
   ]
  },
  {
   "cell_type": "code",
   "execution_count": 1,
   "metadata": {},
   "outputs": [],
   "source": [
    "import numpy as np\n",
    "import matplotlib.pyplot as plt"
   ]
  },
  {
   "cell_type": "code",
   "execution_count": 31,
   "metadata": {},
   "outputs": [],
   "source": [
    "class RCCircuit() :\n",
    "    '''Define a discharging RC Circuit, and use methods to perform the time integration'''\n",
    "    def __init__(self, R = 10, C = 2e-06, V0_cap = 10, num_timesteps=1000, T=5) :\n",
    "        ''' This '''\n",
    "        self.Q0_cap = C * V0_cap\n",
    "        self.R = R\n",
    "        self.C = C\n",
    "        self.RC = R * C\n",
    "        self.T = T # Number of time constants to iterate over\n",
    "        self.num_timesteps = num_timesteps\n",
    "        \n",
    "        self.energy_capacitor = 0.5 * C * V0_cap**2\n",
    "        self.dt = self.RC/num_timesteps\n",
    "        \n",
    "        self.timesteps = np.arange(0, T*self.RC, self.dt)\n",
    "        \n",
    "        self.qarray = np.zeros(self.timesteps.shape)\n",
    "        self.iarray = np.zeros(self.timesteps.shape)\n",
    "        self.parray = np.zeros(self.timesteps.shape)\n",
    "    \n",
    "    def populate(self, inum, Q, I) :\n",
    "        self.qarray[inum] = Q\n",
    "        self.iarray[inum] = I\n",
    "        self.parray[inum] = I**2*self.R\n",
    "        \n",
    "    def update(self, Q, I) :\n",
    "        Q = Q-I*self.dt  # dq = dq/dt * dt = I * dt\n",
    "        I = Q/self.RC\n",
    "        return Q, I\n",
    "    \n",
    "    def solve_circuit(self) :\n",
    "        Q = rcc.Q0_cap\n",
    "        I = rcc.Q0_cap/rcc.RC\n",
    "\n",
    "        for num_timestep in np.arange(self.num_timesteps):\n",
    "            self.populate(num_timestep, Q, I)\n",
    "            Q, I = self.update(Q, I)\n",
    "            \n",
    "    def calc_energy_dissipated(self) :\n",
    "        '''Once the circuit is \"solved\", then we can calculate the energy dissipated'''\n",
    "        return np.sum(self.parray*self.dt)\n"
   ]
  },
  {
   "cell_type": "markdown",
   "metadata": {},
   "source": [
    "**Solve in two lines**: We create an instance of the class RCCircuit, and call it rcc.  Then, we solve the circuit with the method, rcc.solve_circuit()"
   ]
  },
  {
   "cell_type": "code",
   "execution_count": 33,
   "metadata": {},
   "outputs": [
    {
     "name": "stdout",
     "output_type": "stream",
     "text": [
      "8.703721860723991e-05\n",
      "9.999999999999999e-05\n"
     ]
    }
   ],
   "source": [
    "rcc = RCCircuit(num_timesteps=100)\n",
    "rcc.solve_circuit() \n",
    "print(rcc.calc_energy_dissipated())\n",
    "print(rcc.energy_capacitor)"
   ]
  },
  {
   "cell_type": "markdown",
   "metadata": {},
   "source": [
    "**Plot using the attributes of the class:**  rcc.qarray, rcc.iarray, etc."
   ]
  },
  {
   "cell_type": "code",
   "execution_count": 30,
   "metadata": {},
   "outputs": [
    {
     "data": {
      "text/plain": [
       "Text(0.5,0,'Time in units of RC')"
      ]
     },
     "execution_count": 30,
     "metadata": {},
     "output_type": "execute_result"
    },
    {
     "data": {
      "image/png": "[encoded data removed]",
      "text/plain": [
       "<Figure size 576x648 with 2 Axes>"
      ]
     },
     "metadata": {},
     "output_type": "display_data"
    }
   ],
   "source": [
    "fig, (ax1, ax2) = plt.subplots(2,1, figsize=(8,9))  \n",
    "axes = [ax1, ax2]\n",
    "\n",
    "fig.suptitle('Discharging Capacitor', fontsize=18)\n",
    "yarrays = [rcc.qarray, rcc.iarray]\n",
    "ylabels = ['Charge [C]', 'Current [A]']\n",
    "colors = ['b', 'r']\n",
    "\n",
    "for ax, yarray, ylabel, color in zip(axes, yarrays, ylabels, colors) :\n",
    "    ax.plot(rcc.timesteps/rcc.RC, yarray, color=color)\n",
    "    ax.grid()\n",
    "    ax.set_ylabel(ylabel, fontsize=14)\n",
    "\n",
    "ax2.set_xlabel('Time in units of RC', fontsize=16)\n"
   ]
  },
  {
   "cell_type": "markdown",
   "metadata": {},
   "source": [
    "## Part 1 (10 points): A simple RL circuit\n",
    "\n",
    "Consider this circuit:\n",
    "\n",
    "<img src=\"http://www-personal.umich.edu/~gerdes/img/LR_DC.jpg\">\n",
    "\n",
    "At $t=0$ the switch is closed.\n",
    "\n",
    "The loop rule for this circuit reads:\n",
    "$$\n",
    "        V - IR -L\\frac{dI}{dt} = 0.\n",
    "$$\n",
    "This is a first-order differential equation similar to what we encountered earlier for $RC$ circuits. The solution is\n",
    "$$\n",
    "        I(t) = \\frac{V}{R}\\left(1 - e^{-t/\\tau}\\right),\n",
    "$$\n",
    "where \n",
    "$$\n",
    "        \\tau = \\frac{L}{R}\n",
    "$$\n",
    "is the time constant for the circuit (analogous to $RC$ from before). To get the inductor voltage as a function of time, apply the definition from above:\n",
    "$$\n",
    "    V_L = -L\\frac{dI}{dt} = {V}e^{-t/\\tau}.\n",
    "$$\n",
    "So the current starts at zero and exponentially approaches its asymptotic value of $V/R$, while the inductor voltage starts out at $V$ and exponentially decays to zero as the current becomes steady.\n",
    "\n",
    "Let:\n",
    "* V = 10 Volts\n",
    "* R = 1 $\\Omega$\n",
    "* L = 1 H\n",
    "\n",
    " \n",
    "\n",
    "<b>Plot</b> the following quantities vs. time, in units of the time constant $\\tau=L/R$:\n",
    "* Voltage across the resistor and inductor \n",
    "* Power delivered to the resistor and inductor. Recall that $P = IV$. \n",
    "\n",
    "<b>Answer</b> the following questions:\n",
    "* At what time (in units of $\\tau$) is the maximum power being delivered to the inductor? \n",
    "* What is the total energy $U$ delivered to the inductor? \n",
    "* If you change $L$ while holding $R$ constant, how does $U$ change? \n",
    "* If you change $R$ while holding $L$ constant, how does $U$ change?\n",
    "* If you simultaneously double $R$ and $L$, you get a circuit with the same time constant as before. Is this new circuit equivalent to your original one?"
   ]
  },
  {
   "cell_type": "markdown",
   "metadata": {},
   "source": [
    "## Part 2 (10 points): Comparison to analytic solution:\n",
    "\n",
    "* Use the analytic solution to this RL circuit to calulate when the peak power is delivered to the inductor.\n",
    "* How much total energy is delivered to the inductor for the numbers given above?\n",
    "* Determine how the total energy delivered to the inductor scales with $R$ and $L$. \n",
    "\n",
    "Does your program agree with your calculation?"
   ]
  },
  {
   "cell_type": "markdown",
   "metadata": {},
   "source": [
    "## Part 3 (10 points): An alternating-current (AC) circuit\n",
    "\n",
    "In Part 1, we considered a constant voltage source. But your code can easily accommodate a situation where the current is changing in time. Simply update $V$ at each time step along with the other values in the circuit. Let's replace the battery in Part 1 with a generator that produces a sinusoidal voltage,\n",
    "$$\n",
    "            V = V_0\\sin\\omega t.\n",
    "$$\n",
    "\n",
    "<img src=\"http://www-personal.umich.edu/~gerdes/img/LR_AC.jpg\">\n",
    "\n",
    "Now there are two different timescales in the problem: the characteristic time of the $RL$ circuit $\\tau = L/R$, and the period of the generator, $2\\pi/\\omega$. In this part of the assignment, you'll hold $\\tau$ fixed and investigate what happens as you change $\\omega$.\n",
    "\n",
    "Let \n",
    "* $V_0 = 10$ Volts\n",
    "* $L = 1$ H\n",
    "* $R = 1~\\Omega$\n",
    "\n",
    "<b>Make the following plots:</b>\n",
    "* Let $\\omega = R/L$, and plot $V_L$ and $V_R$ on the same time axis. Do they reach their peak values at the same time? If not, what is the phase difference between these two sinusoidal voltages?\n",
    "* Allow $\\omega$ to vary from $0.01/\\tau$ to $100/\\tau$ in equal logarithmic spacings (read the <a href=\"https://docs.scipy.org/doc/numpy-1.15.0/reference/generated/numpy.logspace.html\">numpy documentation</a> and use the function ```np.logspace()```), and make a log-log plot of $V_{L,\\mathrm{peak}}/V_0$ vs. $\\omega$. (This is known as a <i>Bode plot</i>.) Note: you will want to modify your timestep so that it's a small fraction of a generator period. Make sure to wait at least a few full generator cycles before evaluating $V_{L,\\mathrm{peak}}$, to allow any transitory behavior due to initial conditions to be washed out. \n"
   ]
  },
  {
   "cell_type": "markdown",
   "metadata": {},
   "source": [
    "## Part 4 (10 points): Discussion\n",
    "\n",
    "* What happens when $\\omega\\ll 1/\\tau$? When $\\omega \\gg 1/\\tau$? When $\\omega \\approx 1/\\tau$?\n",
    "* Suppose that, instead of driving this circuit with a single frequency $\\omega$, you gave it an input signal that consisted of a mixture of different frequencies -- for example, an electrical representation of a piece of music. What would the output of this circuit do to such a signal? Can you think of any applications for a circuit like this? "
   ]
  }
 ],
 "metadata": {
  "kernelspec": {
   "display_name": "Python 3",
   "language": "python",
   "name": "python3"
  },
  "language_info": {
   "codemirror_mode": {
    "name": "ipython",
    "version": 3
   },
   "file_extension": ".py",
   "mimetype": "text/x-python",
   "name": "python",
   "nbconvert_exporter": "python",
   "pygments_lexer": "ipython3",
   "version": "3.6.5"
  }
 },
 "nbformat": 4,
 "nbformat_minor": 2
}
